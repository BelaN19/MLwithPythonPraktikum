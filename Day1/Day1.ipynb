{
 "cells": [
  {
   "cell_type": "markdown",
   "metadata": {},
   "source": [
    "# Task 1\n",
    "You are given two strings word1 and word2. Merge the strings by adding letters in alternating order, starting with word1. If a string is longer than the other, append the additional letters onto the end of the merged string. Return the merged string."
   ]
  },
  {
   "cell_type": "code",
   "execution_count": 2,
   "metadata": {},
   "outputs": [
    {
     "name": "stdout",
     "output_type": "stream",
     "text": [
      "aqbrce\n"
     ]
    }
   ],
   "source": [
    "class Solution(object):\n",
    "    def mergeAlternately(self, word1, word2):\n",
    "        merged = []\n",
    "        len1, len2 = len(word1), len(word2)\n",
    "        min_len = min(len1, len2)\n",
    "        \n",
    "        for i in range(min_len):\n",
    "            merged.append(word1[i])\n",
    "            merged.append(word2[i])\n",
    "        \n",
    "        if len1 > len2:\n",
    "            merged.append(word1[min_len:])\n",
    "        elif len2 > len1:\n",
    "            merged.append(word2[min_len:])\n",
    "        \n",
    "        return ''.join(merged)\n",
    "solution = Solution().mergeAlternately(\"abc\",\"qre\")\n",
    "print(solution)\n"
   ]
  },
  {
   "cell_type": "markdown",
   "metadata": {},
   "source": [
    "# Task 2\n",
    "For two strings s and t, we say \"t divides s\" if and only if s = t + t + t + ... + t + t (i.e., t is concatenated with itself one or more times).\n",
    "Given two strings str1 and str2, return the largest string x such that x divides both str1 and str2."
   ]
  },
  {
   "cell_type": "code",
   "execution_count": 11,
   "metadata": {},
   "outputs": [
    {
     "name": "stdout",
     "output_type": "stream",
     "text": [
      "AB\n"
     ]
    }
   ],
   "source": [
    "# Task 2\n",
    "class Solution(object):\n",
    "    def gcdOfStrings(self, str1, str2):\n",
    "        # Function to find the greatest common divisor of two lengths\n",
    "        def gcd(a, b):\n",
    "            while b:\n",
    "                a, b = b, a % b\n",
    "            return a\n",
    "        \n",
    "        # Find the gcd of the lengths of str1 and str2\n",
    "        len_gcd = gcd(len(str1), len(str2))\n",
    "        \n",
    "        # Candidate string x that might divide both str1 and str2\n",
    "        candidate = str1[:len_gcd]\n",
    "        \n",
    "        # Check if candidate can generate both str1 and str2\n",
    "        if candidate * (len(str1) // len_gcd) == str1 and candidate * (len(str2) // len_gcd) == str2:\n",
    "            return candidate\n",
    "        else:\n",
    "            return \"\"\n",
    "\n",
    "# Examples\n",
    "str1 = \"ABAB\"\n",
    "str2 = \"AB\"\n",
    "print(Solution().gcdOfStrings(str1, str2))  # Output: \"AB\""
   ]
  },
  {
   "cell_type": "markdown",
   "metadata": {},
   "source": [
    "# Task 3\n",
    "There are n kids with candies. You are given an integer array candies, where each candies[i] represents the number of candies the ith kid has, and an integer extraCandies, denoting the number of extra candies that you have.\n",
    "\n",
    "Return a boolean array result of length n, where result[i] is true if, after giving the ith kid all the extraCandies, they will have the greatest number of candies among all the kids, or false otherwise.\n",
    "\n",
    "Note that multiple kids can have the greatest number of candies."
   ]
  },
  {
   "cell_type": "code",
   "execution_count": 12,
   "metadata": {},
   "outputs": [
    {
     "name": "stdout",
     "output_type": "stream",
     "text": [
      "[False, True, True, False, True, True]\n"
     ]
    }
   ],
   "source": [
    "class Solution(object):\n",
    "    def kidsWithCandies(self, candies, extraCandies):\n",
    "        max=0\n",
    "        for num in candies:\n",
    "            if num>max:\n",
    "                max = num\n",
    "\n",
    "        output=[None]*len(candies)\n",
    "        for i in range(len(candies)):\n",
    "            if candies[i]+extraCandies>=max:\n",
    "                output[i]=True\n",
    "            else:\n",
    "                output[i]=False\n",
    "        return output\n",
    "print(Solution().kidsWithCandies([3,7,4,2,7,4],3)) #Solution: [False, True, True, False, True, True]"
   ]
  },
  {
   "cell_type": "markdown",
   "metadata": {},
   "source": [
    "# Task 4\n",
    "You have a long flowerbed in which some of the plots are planted, and some are not. However, flowers cannot be planted in adjacent plots.\n",
    "\n",
    "Given an integer array flowerbed containing 0's and 1's, where 0 means empty and 1 means not empty, and an integer n, return true if n new flowers can be planted in the flowerbed without violating the no-adjacent-flowers rule and false otherwise."
   ]
  },
  {
   "cell_type": "code",
   "execution_count": 19,
   "metadata": {},
   "outputs": [
    {
     "name": "stdout",
     "output_type": "stream",
     "text": [
      "True\n"
     ]
    }
   ],
   "source": [
    "class Solution(object):\n",
    "    def canPlaceFlowers(self, flowerbed, n):\n",
    "        counter=0\n",
    "        i=0\n",
    "        if len(flowerbed)==1:\n",
    "            if flowerbed[0]==0:\n",
    "                return 1>=n\n",
    "            else:\n",
    "                return 0>=n\n",
    "        while i < len(flowerbed):\n",
    "            if flowerbed[i]==1:\n",
    "                i+=2\n",
    "                continue\n",
    "            else:\n",
    "                if i==0:\n",
    "                    if flowerbed[1]==0:\n",
    "                        counter+=1\n",
    "                        flowerbed[i]=1\n",
    "                elif i==len(flowerbed)-1:\n",
    "                    if flowerbed[len(flowerbed)-2]==0:\n",
    "                        counter+=1\n",
    "                        flowerbed[i]=1\n",
    "                else:\n",
    "                    if flowerbed[i-1]==0 and flowerbed[i+1]==0:\n",
    "                        counter+=1\n",
    "                        flowerbed[i]=1\n",
    "                i+=1\n",
    "        return counter>=n\n",
    "print(Solution().canPlaceFlowers([1,0,0,0,1,0,0],2))\n",
    "\n"
   ]
  },
  {
   "cell_type": "markdown",
   "metadata": {},
   "source": [
    "# Task 5\n",
    "Given a string s, reverse only all the vowels in the string and return it.\n",
    "The vowels are 'a', 'e', 'i', 'o', and 'u', and they can appear in both lower and upper cases, more than once."
   ]
  },
  {
   "cell_type": "code",
   "execution_count": 21,
   "metadata": {},
   "outputs": [
    {
     "name": "stdout",
     "output_type": "stream",
     "text": [
      "holle\n"
     ]
    }
   ],
   "source": [
    "class Solution(object):\n",
    "    def reverseVowels(self, s):\n",
    "        \"\"\"\n",
    "        :type s: str\n",
    "        :rtype: str\n",
    "        \"\"\"\n",
    "        a=0\n",
    "        b=len(s)-1\n",
    "        voc1=None\n",
    "        voc2=None\n",
    "        while a<b:\n",
    "            if s[a] in ['a','e','i','o','u','A','E','I','O','U']:\n",
    "                voc1 = s[a]\n",
    "            else:\n",
    "                a+=1\n",
    "            if s[b] in ['a','e','i','o','u','A','E','I','O','U']:\n",
    "                voc2 = s[b]\n",
    "            else:\n",
    "                b-=1\n",
    "            if voc1!=None and voc2!=None:\n",
    "                s=s[:a] + voc2 + s[a+1:]\n",
    "                s=s[:b] + voc1 + s[b+1:]\n",
    "                voc1=None\n",
    "                voc2=None\n",
    "                a+=1\n",
    "                b-=1\n",
    "        return s\n",
    "print(Solution().reverseVowels(\"hello\"))"
   ]
  },
  {
   "cell_type": "markdown",
   "metadata": {},
   "source": [
    "# Task 6\n",
    "Given an input string s, reverse the order of the words.\n",
    "\n",
    "A word is defined as a sequence of non-space characters. The words in s will be separated by at least one space.\n",
    "\n",
    "Return a string of the words in reverse order concatenated by a single space.\n",
    "\n",
    "Note that s may contain leading or trailing spaces or multiple spaces between two words. The returned string should only have a single space separating the words. Do not include any extra spaces.\n",
    "\n"
   ]
  },
  {
   "cell_type": "code",
   "execution_count": 24,
   "metadata": {},
   "outputs": [
    {
     "name": "stdout",
     "output_type": "stream",
     "text": [
      "blue is sky The\n"
     ]
    }
   ],
   "source": [
    "class Solution(object):\n",
    "    def reverseWords(self, s):\n",
    "        words = s.split()\n",
    "        words = words[::-1]\n",
    "        solution = \" \".join(words)\n",
    "        \n",
    "        return solution\n",
    "print(Solution().reverseWords(\"The sky     is blue   \"))"
   ]
  },
  {
   "cell_type": "markdown",
   "metadata": {},
   "source": [
    "# Task 7 Product of Array Except Self\n",
    "Given an integer array nums, return an array answer such that answer[i] is equal to the product of all the elements of nums except nums[i].\n",
    "\n",
    "The product of any prefix or suffix of nums is guaranteed to fit in a 32-bit integer.\n",
    "\n",
    "You must write an algorithm that runs in O(n) time and without using the division operation."
   ]
  },
  {
   "cell_type": "code",
   "execution_count": 25,
   "metadata": {},
   "outputs": [
    {
     "name": "stdout",
     "output_type": "stream",
     "text": [
      "[24, 12, 8, 6]\n"
     ]
    }
   ],
   "source": [
    "class Solution(object):\n",
    "    def productExceptSelf(self, nums):\n",
    "        n = len(nums)\n",
    "        answer = [1] * n  # Initialize the answer array with 1s\n",
    "        \n",
    "        # Left pass: Fill answer[i] with the product of all elements to the left of nums[i]\n",
    "        left_product = 1\n",
    "        for i in range(n):\n",
    "            answer[i] = left_product\n",
    "            left_product *= nums[i]\n",
    "        \n",
    "        # Right pass: Update answer[i] with the product of all elements to the right of nums[i]\n",
    "        right_product = 1\n",
    "        for i in range(n-1, -1, -1):\n",
    "            answer[i] *= right_product\n",
    "            right_product *= nums[i]\n",
    "        \n",
    "        return answer\n",
    "print(Solution().productExceptSelf([1,2,3,4]))"
   ]
  },
  {
   "cell_type": "markdown",
   "metadata": {},
   "source": [
    "# Task 8 Maximum Average Subarray I\n",
    "You are given an integer array nums consisting of n elements, and an integer k.\n",
    "\n",
    "Find a contiguous subarray whose length is equal to k that has the maximum average value and return this value. Any answer with a calculation error less than 10-5 will be accepted.\n"
   ]
  },
  {
   "cell_type": "code",
   "execution_count": 29,
   "metadata": {},
   "outputs": [
    {
     "name": "stdout",
     "output_type": "stream",
     "text": [
      "12.75\n"
     ]
    }
   ],
   "source": [
    "class Solution:\n",
    "    def findMaxAverage(self, nums, k):\n",
    "        sum=0\n",
    "        for i in range(0,k):\n",
    "            sum+=nums[i]\n",
    "        max=sum\n",
    "        for i in range(0,len(nums)):\n",
    "            if i+k-1<=len(nums)-1:\n",
    "                sum=0\n",
    "                for j in range(i,i+k):\n",
    "                    sum+=nums[j]\n",
    "                if sum>max:\n",
    "                    max=sum\n",
    "            else:\n",
    "                break\n",
    "        return max/k\n",
    "print(Solution().findMaxAverage([1,12,-5,-6,50,3],4))"
   ]
  },
  {
   "cell_type": "markdown",
   "metadata": {},
   "source": [
    "# Task 9 Maximum Number of Vowels in a Substring of Given Length\n",
    "Given a string s and an integer k, return the maximum number of vowel letters in any substring of s with length k.\n",
    "\n",
    "Vowel letters in English are 'a', 'e', 'i', 'o', and 'u'."
   ]
  },
  {
   "cell_type": "code",
   "execution_count": 31,
   "metadata": {},
   "outputs": [
    {
     "name": "stdout",
     "output_type": "stream",
     "text": [
      "2\n"
     ]
    }
   ],
   "source": [
    "class Solution:\n",
    "    def maxVowels(self, s: str, k: int) -> int:\n",
    "        vowels = {'a', 'e', 'i', 'o', 'u'}\n",
    "        \n",
    "        # Helper function to count vowels in a substring\n",
    "        def count_vowels(substr):\n",
    "            return sum(1 for char in substr if char in vowels)\n",
    "        \n",
    "        # Initialize the number of vowels in the first window of length k\n",
    "        max_vowels = 0\n",
    "        current_vowels = 0\n",
    "        \n",
    "        # Count vowels in the first window\n",
    "        for i in range(k):\n",
    "            if s[i] in vowels:\n",
    "                current_vowels += 1\n",
    "                \n",
    "        max_vowels = current_vowels\n",
    "        \n",
    "        # Slide the window over the string\n",
    "        for i in range(k, len(s)):\n",
    "            if s[i] in vowels:\n",
    "                current_vowels += 1\n",
    "            if s[i - k] in vowels:\n",
    "                current_vowels -= 1\n",
    "                \n",
    "            max_vowels = max(max_vowels, current_vowels)\n",
    "        \n",
    "        return max_vowels\n",
    "print(Solution().maxVowels(\"leetcode\", 3))"
   ]
  },
  {
   "cell_type": "markdown",
   "metadata": {},
   "source": [
    "# Task 10 Find the Highest Altitude\n",
    "There is a biker going on a road trip. The road trip consists of n + 1 points at different altitudes. The biker starts his trip on point 0 with altitude equal 0.\n",
    "\n",
    "You are given an integer array gain of length n where gain[i] is the net gain in altitude between points i​​​​​​ and i + 1 for all (0 <= i < n). Return the highest altitude of a point.\n"
   ]
  },
  {
   "cell_type": "code",
   "execution_count": 33,
   "metadata": {},
   "outputs": [
    {
     "name": "stdout",
     "output_type": "stream",
     "text": [
      "11\n"
     ]
    }
   ],
   "source": [
    "class Solution:\n",
    "    def largestAltitude(self, gain):\n",
    "        heights = [0]*(len(gain)+1)\n",
    "        for i in range(1,len(heights)):\n",
    "            heights[i]=heights[i-1]+gain[i-1]\n",
    "        return max(heights)\n",
    "print(Solution().largestAltitude([1,-10,20,-9,8,-5]))"
   ]
  },
  {
   "cell_type": "markdown",
   "metadata": {},
   "source": [
    "# Task 11 \n",
    "Given an array of integers nums, calculate the pivot index of this array.\n",
    "\n",
    "The pivot index is the index where the sum of all the numbers strictly to the left of the index is equal to the sum of all the numbers strictly to the index's right.\n",
    "\n",
    "If the index is on the left edge of the array, then the left sum is 0 because there are no elements to the left. This also applies to the right edge of the array.\n",
    "\n",
    "Return the leftmost pivot index. If no such index exists, return -1."
   ]
  },
  {
   "cell_type": "code",
   "execution_count": 35,
   "metadata": {},
   "outputs": [
    {
     "name": "stdout",
     "output_type": "stream",
     "text": [
      "-1\n"
     ]
    }
   ],
   "source": [
    "class Solution:\n",
    "    def pivotIndex(self, nums: list[int]) -> int:\n",
    "        total_sum = sum(nums)\n",
    "        left_sum = 0\n",
    "        \n",
    "        for i, num in enumerate(nums):\n",
    "            right_sum = total_sum - left_sum - num\n",
    "            if left_sum == right_sum:\n",
    "                return i\n",
    "            left_sum += num\n",
    "        \n",
    "        return -1\n",
    "print(Solution().pivotIndex([1,2,2,1]))     "
   ]
  },
  {
   "cell_type": "markdown",
   "metadata": {},
   "source": [
    "# Task 12 Find the Difference of Two Arrays\n",
    "Given two 0-indexed integer arrays nums1 and nums2, return a list answer of size 2 where:\n",
    "\n",
    "answer[0] is a list of all distinct integers in nums1 which are not present in nums2.\n",
    "answer[1] is a list of all distinct integers in nums2 which are not present in nums1.\n",
    "Note that the integers in the lists may be returned in any order."
   ]
  },
  {
   "cell_type": "code",
   "execution_count": null,
   "metadata": {},
   "outputs": [],
   "source": [
    "class Solution:\n",
    "    def findDifference(self, nums1: list[int], nums2: list[int]) -> list[list[int]]:\n",
    "        answer1 = []\n",
    "        answer2 = []\n",
    "        for i in nums1:\n",
    "            if not i in nums2 and not i in answer1:\n",
    "                answer1.append(i)\n",
    "        for j in nums2:\n",
    "            if not j in nums1 and not j in answer2:\n",
    "                answer2.append(j)\n",
    "        return [answer1,answer2]\n",
    "print(Solution().pivotIndex([1,2,3],[2,3,4]))   "
   ]
  },
  {
   "cell_type": "markdown",
   "metadata": {},
   "source": [
    "# Task 13 \n",
    "Two strings are considered close if you can attain one from the other using the following operations:\n",
    "\n",
    "Operation 1: Swap any two existing characters.\n",
    "For example, abcde -> aecdb\n",
    "Operation 2: Transform every occurrence of one existing character into another existing character, and do the same with the other character.\n",
    "For example, aacabb -> bbcbaa (all a's turn into b's, and all b's turn into a's)\n",
    "You can use the operations on either string as many times as necessary.\n",
    "\n",
    "Given two strings, word1 and word2, return true if word1 and word2 are close, and false otherwise."
   ]
  },
  {
   "cell_type": "code",
   "execution_count": 38,
   "metadata": {},
   "outputs": [
    {
     "name": "stdout",
     "output_type": "stream",
     "text": [
      "True\n"
     ]
    }
   ],
   "source": [
    "class Solution:\n",
    "    def closeStrings(self, word1: str, word2: str) -> bool:\n",
    "        if len(word1)!=len(word2):\n",
    "            return False\n",
    "        dict1 = {}\n",
    "        for i in range(len(word1)):\n",
    "            if word1[i] in dict1.keys():\n",
    "                dict1[word1[i]]+=1\n",
    "            else:\n",
    "                dict1[word1[i]]=1\n",
    "        dict2 = {}\n",
    "        for i in range(len(word2)):\n",
    "            if word2[i] in dict2.keys():\n",
    "                dict2[word2[i]]+=1\n",
    "            else:\n",
    "                dict2[word2[i]]=1\n",
    "        if not sorted(dict1.keys())==sorted(dict2.keys()):\n",
    "            return False\n",
    "        if not sorted(dict1.values())==sorted(dict2.values()):\n",
    "            return False\n",
    "        return True\n",
    "print(Solution().closeStrings(\"abc\",\"cba\"))"
   ]
  }
 ],
 "metadata": {
  "kernelspec": {
   "display_name": "Python 3",
   "language": "python",
   "name": "python3"
  },
  "language_info": {
   "codemirror_mode": {
    "name": "ipython",
    "version": 3
   },
   "file_extension": ".py",
   "mimetype": "text/x-python",
   "name": "python",
   "nbconvert_exporter": "python",
   "pygments_lexer": "ipython3",
   "version": "3.12.4"
  }
 },
 "nbformat": 4,
 "nbformat_minor": 2
}
