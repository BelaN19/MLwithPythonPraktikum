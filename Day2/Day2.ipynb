{
 "cells": [
  {
   "cell_type": "markdown",
   "metadata": {},
   "source": [
    "# 1. Dictionaries"
   ]
  },
  {
   "cell_type": "markdown",
   "metadata": {},
   "source": [
    "### Task 1: Sort Dictionary"
   ]
  },
  {
   "cell_type": "code",
   "execution_count": 1,
   "metadata": {},
   "outputs": [
    {
     "name": "stdout",
     "output_type": "stream",
     "text": [
      "{'Red': 1, 'Green': 3, 'Black': 5, 'White': 2, 'Pink': 4}\n",
      "{'Red': 1, 'White': 2, 'Green': 3, 'Pink': 4, 'Black': 5}\n",
      "[]\n",
      "{'Black': 5, 'Pink': 4, 'Green': 3, 'White': 2, 'Red': 1}\n"
     ]
    }
   ],
   "source": [
    "dictionary = {\"Red\": 1, \"Green\": 3, \"Black\": 5, \"White\": 2, \"Pink\": 4}\n",
    "print(dictionary)\n",
    "print(dict(sorted(dictionary.items(), key=lambda item: item[1])))\n",
    "print(list())\n",
    "print(dict(sorted(dictionary.items(), key=lambda item: item[1], reverse=True)))"
   ]
  },
  {
   "cell_type": "markdown",
   "metadata": {},
   "source": [
    "### Task 2: Concatenate Dictionaries"
   ]
  },
  {
   "cell_type": "code",
   "execution_count": 2,
   "metadata": {},
   "outputs": [
    {
     "name": "stdout",
     "output_type": "stream",
     "text": [
      "{1: 10, 2: 20, 3: 30, 4: 40, 5: 50, 6: 60}\n"
     ]
    }
   ],
   "source": [
    "dic1 = {1: 10, 2: 20}\n",
    "dic2 = {3: 30, 4: 40}\n",
    "dic3 = {5: 50, 6: 60}\n",
    "dic4 = dic1 | dic2 | dic3 \n",
    "print(dic4)"
   ]
  },
  {
   "cell_type": "markdown",
   "metadata": {},
   "source": [
    "### Task 3: Sum Dictionary"
   ]
  },
  {
   "cell_type": "code",
   "execution_count": 3,
   "metadata": {},
   "outputs": [
    {
     "name": "stdout",
     "output_type": "stream",
     "text": [
      "293\n"
     ]
    }
   ],
   "source": [
    "dicts = {'data1': 100, 'data2': -54, 'data3': 247}\n",
    "print(sum(dicts.values()))"
   ]
  },
  {
   "cell_type": "markdown",
   "metadata": {},
   "source": [
    "### Task 4: Min/Max of Dictionary"
   ]
  },
  {
   "cell_type": "code",
   "execution_count": 4,
   "metadata": {},
   "outputs": [
    {
     "name": "stdout",
     "output_type": "stream",
     "text": [
      "('data2', -54)\n"
     ]
    }
   ],
   "source": [
    "dicts = {'data1': 100, 'data2': -54, 'data3': 247}\n",
    "def find_min(dicts):\n",
    "    minimum = list(dicts.items())[0]\n",
    "    for item in dicts.items():\n",
    "        if item[1]<minimum[1]:\n",
    "            minimum=item\n",
    "    return minimum\n",
    "print(find_min(dicts))"
   ]
  },
  {
   "cell_type": "markdown",
   "metadata": {},
   "source": [
    "### Task 5: Map lists to Dictionary"
   ]
  },
  {
   "cell_type": "code",
   "execution_count": 7,
   "metadata": {},
   "outputs": [
    {
     "name": "stdout",
     "output_type": "stream",
     "text": [
      "{'red': '#FF0000', 'green': '#008000', 'blue': '#0000FF'}\n"
     ]
    }
   ],
   "source": [
    "keys = ['red', 'green', 'blue']\n",
    "values = ['#FF0000', '#008000', '#0000FF']\n",
    "color = dict(zip(keys, values))\n",
    "print(color)"
   ]
  },
  {
   "cell_type": "markdown",
   "metadata": {},
   "source": [
    "### Task 6: Find 3 highest values"
   ]
  },
  {
   "cell_type": "code",
   "execution_count": 13,
   "metadata": {},
   "outputs": [
    {
     "name": "stdout",
     "output_type": "stream",
     "text": [
      "{'b': 5874, 'e': 5874, 'c': 560}\n"
     ]
    }
   ],
   "source": [
    "my_dict = {'a': 500, 'b': 5874, 'c': 560, 'd': 400, 'e': 5874, 'f': 20}\n",
    "print(dict(sorted(my_dict.items(), key=lambda item: item[1], reverse=True)[:3]))"
   ]
  },
  {
   "cell_type": "markdown",
   "metadata": {},
   "source": [
    "### Task 7: Combine dictionaries "
   ]
  },
  {
   "cell_type": "code",
   "execution_count": 14,
   "metadata": {},
   "outputs": [
    {
     "name": "stdout",
     "output_type": "stream",
     "text": [
      "{'a': 400, 'b': 400, 'c': 300, 'd': 400}\n"
     ]
    }
   ],
   "source": [
    "d1 = {'a': 100, 'b': 200, 'c': 300} \n",
    "d2 = {'a': 300, 'b': 200, 'd': 400}\n",
    "def combine(dict1, dict2):\n",
    "    combined_dict = {}\n",
    "    for key, value in dict1.items():\n",
    "        combined_dict[key] = value\n",
    "\n",
    "    for key, value in dict2.items():\n",
    "        if key in combined_dict:\n",
    "            combined_dict[key] += value\n",
    "        else:\n",
    "            combined_dict[key] = value\n",
    "    return combined_dict\n",
    "print(combine(d1,d2))"
   ]
  },
  {
   "cell_type": "markdown",
   "metadata": {},
   "source": [
    "### Task 8: Dictionary of object"
   ]
  },
  {
   "cell_type": "code",
   "execution_count": 15,
   "metadata": {},
   "outputs": [
    {
     "name": "stdout",
     "output_type": "stream",
     "text": [
      "{'x': 'red', 'y': 'Yellow', 'z': 'Green'}\n",
      "{'x': 'red', 'y': 'Yellow', 'z': 'Green'}\n"
     ]
    }
   ],
   "source": [
    "class dictObj(object):\n",
    "    def __init__(self):\n",
    "        self.x = 'red'\n",
    "        self.y = 'Yellow'\n",
    "        self.z = 'Green'\n",
    "\n",
    "obj = dictObj()\n",
    "obj_dict = vars(obj)\n",
    "print(obj_dict)\n",
    "print(obj.__dict__)\n"
   ]
  },
  {
   "cell_type": "markdown",
   "metadata": {},
   "source": [
    "# 2. Matrices"
   ]
  },
  {
   "cell_type": "markdown",
   "metadata": {},
   "source": [
    "### Task 1: Modify the matrix\n",
    "Given a 0-indexed m x n integer matrix matrix, create a new 0-indexed matrix called answer. Make answer equal to matrix, then replace each element with the value -1 with the maximum element in its respective column.\n",
    "Return the matrix answer."
   ]
  },
  {
   "cell_type": "code",
   "execution_count": 17,
   "metadata": {},
   "outputs": [
    {
     "name": "stdout",
     "output_type": "stream",
     "text": [
      "[[1, 2, 9], [4, 8, 6], [7, 8, 9]]\n"
     ]
    }
   ],
   "source": [
    "class Solution:\n",
    "    def modifiedMatrix(self, matrix: list[list[int]]) -> list[list[int]]:\n",
    "        if not matrix or not matrix[0]:\n",
    "            return matrix\n",
    "\n",
    "        m = len(matrix)\n",
    "        n = len(matrix[0])\n",
    "\n",
    "        max_in_columns = [float('-inf')] * n\n",
    "        for j in range(n):\n",
    "            for i in range(m):\n",
    "                if matrix[i][j] > max_in_columns[j]:\n",
    "                    max_in_columns[j] = matrix[i][j]\n",
    "\n",
    "        answer = [[0] * n for _ in range(m)]\n",
    "        for i in range(m):\n",
    "            for j in range(n):\n",
    "                if matrix[i][j] == -1:\n",
    "                    answer[i][j] = max_in_columns[j]\n",
    "                else:\n",
    "                    answer[i][j] = matrix[i][j]\n",
    "\n",
    "        return answer\n",
    "\n",
    "print(Solution().modifiedMatrix([[1,2,-1],[4,-1,6],[7,8,9]]))"
   ]
  },
  {
   "cell_type": "markdown",
   "metadata": {},
   "source": [
    "### Task 2: Matrix Diagonal Sum\n",
    "Given a square matrix mat, return the sum of the matrix diagonals.\n",
    "\n",
    "Only include the sum of all the elements on the primary diagonal and all the elements on the secondary diagonal that are not part of the primary diagonal.\n",
    "\n"
   ]
  },
  {
   "cell_type": "code",
   "execution_count": 18,
   "metadata": {},
   "outputs": [
    {
     "name": "stdout",
     "output_type": "stream",
     "text": [
      "25\n"
     ]
    }
   ],
   "source": [
    "class Solution:\n",
    "    def diagonalSum(self, mat: list[list[int]]) -> int:\n",
    "        size = len(mat)\n",
    "\n",
    "        sum=0\n",
    "        for i in range(size):\n",
    "            for j in range(size):\n",
    "                if i==j:\n",
    "                    sum+=mat[i][j]\n",
    "                elif i+j==size-1:\n",
    "                    sum+=mat[i][j]\n",
    "        return sum\n",
    "    \n",
    "print(Solution().diagonalSum([[1,2,3],[4,5,6],[7,8,9]]))"
   ]
  },
  {
   "cell_type": "markdown",
   "metadata": {},
   "source": [
    "### Task 3: Reshape the Matrix\n",
    "In MATLAB, there is a handy function called reshape which can reshape an m x n matrix into a new one with a different size r x c keeping its original data.\n",
    "\n",
    "You are given an m x n matrix mat and two integers r and c representing the number of rows and the number of columns of the wanted reshaped matrix.\n",
    "\n",
    "The reshaped matrix should be filled with all the elements of the original matrix in the same row-traversing order as they were.\n",
    "\n",
    "If the reshape operation with given parameters is possible and legal, output the new reshaped matrix; Otherwise, output the original matrix.\n",
    "\n"
   ]
  },
  {
   "cell_type": "code",
   "execution_count": 23,
   "metadata": {},
   "outputs": [
    {
     "name": "stdout",
     "output_type": "stream",
     "text": [
      "[[1, 2, 3, 4]]\n"
     ]
    }
   ],
   "source": [
    "class Solution:\n",
    "    def matrixReshape(self, mat: list[list[int]], r: int, c: int) -> list[list[int]]:\n",
    "        \n",
    "        if len(mat) * len(mat[0]) != r * c:\n",
    "            return mat\n",
    "        \n",
    "        list = [elem for row in mat for elem in row]\n",
    "        \n",
    "        new = []\n",
    "        for i in range(r):\n",
    "            new.append(list[i*c:(i+1)*c])\n",
    "        \n",
    "        return new\n",
    "print(Solution().matrixReshape([[1,2],[3,4]],1,4))"
   ]
  },
  {
   "cell_type": "markdown",
   "metadata": {},
   "source": [
    "### Task 4: Transpose Matrix\n",
    "Given a 2D integer array matrix, return the transpose of matrix.\n",
    "\n",
    "The transpose of a matrix is the matrix flipped over its main diagonal, switching the matrix's row and column indices."
   ]
  },
  {
   "cell_type": "code",
   "execution_count": 24,
   "metadata": {},
   "outputs": [
    {
     "name": "stdout",
     "output_type": "stream",
     "text": [
      "[[1, 3], [2, 4]]\n"
     ]
    }
   ],
   "source": [
    "class Solution:\n",
    "    def transpose(self, matrix: list[list[int]]) -> list[list[int]]:\n",
    "        rows = len(matrix)\n",
    "        cols = len(matrix[0])\n",
    "        transposed = [[0] * rows for _ in range(cols)]\n",
    "        for i in range(rows):\n",
    "            for j in range(cols):\n",
    "                transposed[j][i] = matrix[i][j]\n",
    "        return transposed\n",
    "print(Solution().transpose([[1,2],[3,4]]))"
   ]
  },
  {
   "cell_type": "markdown",
   "metadata": {},
   "source": [
    "### Task 5: Image Shooter\n",
    "An image smoother is a filter of the size 3 x 3 that can be applied to each cell of an image by rounding down the average of the cell and the eight surrounding cells (i.e., the average of the nine cells in the blue smoother). If one or more of the surrounding cells of a cell is not present, we do not consider it in the average (i.e., the average of the four cells in the red smoother)."
   ]
  },
  {
   "cell_type": "code",
   "execution_count": 31,
   "metadata": {},
   "outputs": [
    {
     "name": "stdout",
     "output_type": "stream",
     "text": [
      "[[137, 141, 137], [141, 138, 141], [137, 141, 137]]\n"
     ]
    }
   ],
   "source": [
    "import math\n",
    "class Solution:\n",
    "    def imageSmoother(self, img: list[list[int]]) -> list[list[int]]:\n",
    "        new=[]\n",
    "        for i in range(len(img)):\n",
    "            temp = []\n",
    "            for j in range(len(img[0])):\n",
    "                summe=0\n",
    "                counter=0\n",
    "                for k in range(-1,2):\n",
    "                    for l in range(-1,2):\n",
    "                        if not (i+k<0 or j+l<0 or i+k>len(img)-1 or j+l>len(img[0])-1):\n",
    "                            summe+=img[i+k][j+l]\n",
    "                            counter+=1\n",
    "                temp.append(math.floor(summe/counter))\n",
    "            new.append(temp)\n",
    "        return new\n",
    "print(Solution().imageSmoother([[100,200,100],[200,50,200],[100,200,100]]))"
   ]
  },
  {
   "cell_type": "markdown",
   "metadata": {},
   "source": [
    "### Task 6: Flipping an image\n",
    "Given an n x n binary matrix image, flip the image horizontally, then invert it, and return the resulting image.\n",
    "\n",
    "To flip an image horizontally means that each row of the image is reversed.\n",
    "\n",
    "For example, flipping [1,1,0] horizontally results in [0,1,1].\n",
    "To invert an image means that each 0 is replaced by 1, and each 1 is replaced by 0.\n",
    "\n",
    "For example, inverting [0,1,1] results in [1,0,0]."
   ]
  },
  {
   "cell_type": "code",
   "execution_count": 32,
   "metadata": {},
   "outputs": [
    {
     "name": "stdout",
     "output_type": "stream",
     "text": [
      "[[1, 1, 0, 0], [0, 1, 1, 0], [0, 0, 0, 1], [1, 0, 1, 0]]\n"
     ]
    }
   ],
   "source": [
    "class Solution:\n",
    "    def flipAndInvertImage(self, image: list[list[int]]) -> list[list[int]]:\n",
    "        for row in range(len(image)):\n",
    "            image[row]=image[row][::-1]\n",
    "        for row in range(len(image)):\n",
    "            image[row]=[0 if x==1 else 1 for x in image[row]]\n",
    "        return image\n",
    "print(Solution().flipAndInvertImage([[1,1,0,0],[1,0,0,1],[0,1,1,1],[1,0,1,0]]))"
   ]
  },
  {
   "cell_type": "markdown",
   "metadata": {},
   "source": [
    "# 3. Images"
   ]
  },
  {
   "cell_type": "markdown",
   "metadata": {},
   "source": [
    "### Task 1: Gray scale version of a image"
   ]
  },
  {
   "cell_type": "code",
   "execution_count": null,
   "metadata": {},
   "outputs": [],
   "source": [
    "from PIL import Image\n",
    "\n",
    "image = Image.open(\"rooster.jpg\")\n",
    "\n",
    "pixels = image.load()\n",
    "\n",
    "for i in range(image.width):\n",
    "    for j in range(image.height):\n",
    "        r, g, b = pixels[i, j]\n",
    "        gray = int((r + g + b) / 3)\n",
    "        pixels[i, j] = (gray, gray, gray)\n",
    "\n",
    "image.save(\"grayscale_image.jpg\")\n",
    "image.show()"
   ]
  },
  {
   "cell_type": "markdown",
   "metadata": {},
   "source": [
    "### Task 2: Black and White"
   ]
  },
  {
   "cell_type": "code",
   "execution_count": null,
   "metadata": {},
   "outputs": [],
   "source": [
    "from PIL import Image\n",
    "\n",
    "image = Image.open(\"rooster.jpg\")\n",
    "\n",
    "pixels = image.load()\n",
    "\n",
    "summe=0\n",
    "counter=0\n",
    "for i in range(image.width):\n",
    "    for j in range(image.height):\n",
    "        r, g, b = pixels[i, j]\n",
    "        summe+=r+g+b\n",
    "        counter+=1\n",
    "        if r+g+b>200:\n",
    "            pixels[i, j] = (0,0,0)\n",
    "        else:\n",
    "            pixels[i, j] = (255,255,255)\n",
    "\n",
    "image.save(\"blackwhite_image.jpg\")\n",
    "image.show()"
   ]
  },
  {
   "cell_type": "markdown",
   "metadata": {},
   "source": [
    "### Task3: Switched RGB-values"
   ]
  },
  {
   "cell_type": "code",
   "execution_count": null,
   "metadata": {},
   "outputs": [],
   "source": [
    "from PIL import Image\n",
    "\n",
    "image = Image.open(\"rooster.jpg\")\n",
    "\n",
    "pixels = image.load()\n",
    "\n",
    "summe=0\n",
    "counter=0\n",
    "for i in range(image.width):\n",
    "    for j in range(image.height):\n",
    "        r, g, b = pixels[i, j]\n",
    "        pixels[i, j] = (g,b,r)\n",
    "\n",
    "image.save(\"gbr_image.jpg\")\n",
    "image.show()"
   ]
  },
  {
   "cell_type": "markdown",
   "metadata": {},
   "source": [
    "### Task 4: Half intensity"
   ]
  },
  {
   "cell_type": "code",
   "execution_count": null,
   "metadata": {},
   "outputs": [],
   "source": [
    "from PIL import Image\n",
    "\n",
    "image = Image.open(\"rooster.jpg\")\n",
    "\n",
    "pixels = image.load()\n",
    "\n",
    "summe=0\n",
    "counter=0\n",
    "for i in range(image.width):\n",
    "    for j in range(image.height):\n",
    "        r, g, b = pixels[i, j]\n",
    "        pixels[i, j] = (r//2,g//2,b//2)\n",
    "\n",
    "image.save(\"halfIntensity_image.jpg\")\n",
    "image.show()"
   ]
  }
 ],
 "metadata": {
  "kernelspec": {
   "display_name": "Python 3",
   "language": "python",
   "name": "python3"
  },
  "language_info": {
   "codemirror_mode": {
    "name": "ipython",
    "version": 3
   },
   "file_extension": ".py",
   "mimetype": "text/x-python",
   "name": "python",
   "nbconvert_exporter": "python",
   "pygments_lexer": "ipython3",
   "version": "3.12.4"
  }
 },
 "nbformat": 4,
 "nbformat_minor": 2
}
